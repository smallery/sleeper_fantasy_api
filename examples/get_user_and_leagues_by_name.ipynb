{
 "cells": [
  {
   "cell_type": "code",
   "execution_count": 7,
   "metadata": {},
   "outputs": [],
   "source": [
    "import sys\n",
    "import os\n",
    "\n",
    "# Add the root directory to sys.path\n",
    "sys.path.append(os.path.abspath(os.path.join(os.path.dirname('get_user_and_leagues_by_name.py'), '..')))\n"
   ]
  },
  {
   "cell_type": "code",
   "execution_count": 8,
   "metadata": {},
   "outputs": [
    {
     "name": "stdout",
     "output_type": "stream",
     "text": [
      "<UserModel(username=thisissam, user_id=605149685933494272, display_name=thisissam, nfl_leagues=8)>\n",
      "Username: thisissam\n",
      "User ID: 605149685933494272\n",
      "Display Name: thisissam\n",
      "Avatar: f998112053e26d52e49b968216d74b19\n",
      "<LeagueModel(name=The Longest Yard, season=2021, league_id=736291282858676224)>\n",
      "complete\n"
     ]
    }
   ],
   "source": [
    "from sleeper_api import SleeperClient\n",
    "from sleeper_api.endpoints.user_endpoint import UserEndpoint\n",
    "\n",
    "client = SleeperClient()\n",
    "user_endpoint = UserEndpoint(client)\n",
    "\n",
    "# Fetch the user model\n",
    "user = user_endpoint.get_user(user_id=\"605149685933494272\")\n",
    "\n",
    "# Fetch and store NFL leagues in the user model\n",
    "user_endpoint.fetch_nfl_leagues(user=user,all_seasons=True)\n",
    "\n",
    "print(user)\n",
    "# Access specific attributes\n",
    "print(f\"Username: {user.username}\")\n",
    "print(f\"User ID: {user.user_id}\")\n",
    "print(f\"Display Name: {user.display_name}\")\n",
    "print(f\"Avatar: {user.avatar}\")\n",
    "\n",
    "print(user.nfl_leagues[1])  # This will print the first league in the list\n",
    "print(user.nfl_leagues[0].status)\n",
    "\n"
   ]
  }
 ],
 "metadata": {
  "kernelspec": {
   "display_name": "random_python3",
   "language": "python",
   "name": "python3"
  },
  "language_info": {
   "codemirror_mode": {
    "name": "ipython",
    "version": 3
   },
   "file_extension": ".py",
   "mimetype": "text/x-python",
   "name": "python",
   "nbconvert_exporter": "python",
   "pygments_lexer": "ipython3",
   "version": "3.10.10"
  }
 },
 "nbformat": 4,
 "nbformat_minor": 2
}
