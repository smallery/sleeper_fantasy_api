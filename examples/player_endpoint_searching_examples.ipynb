{
 "cells": [
  {
   "cell_type": "code",
   "execution_count": 1,
   "metadata": {},
   "outputs": [],
   "source": [
    "import sys\n",
    "import os\n",
    "\n",
    "# Add the root directory to sys.path\n",
    "sys.path.append(os.path.abspath(os.path.join(os.path.dirname('get_user_and_leagues_by_name.ipynb'), '..')))"
   ]
  },
  {
   "cell_type": "code",
   "execution_count": 2,
   "metadata": {},
   "outputs": [
    {
     "name": "stdout",
     "output_type": "stream",
     "text": [
      "<PlayerModel(name=Michael Pratt, player_id=11561, age=22, team=TB, position=QB)>\n",
      "<PlayerModel(name=Anthony Richardson, player_id=9229, age=22, team=IND, position=QB)>\n",
      "<PlayerModel(name=Caleb Williams, player_id=11560, age=22, team=CHI, position=QB)>\n",
      "<PlayerModel(name=C.J. Stroud, player_id=9758, age=22, team=HOU, position=QB)>\n",
      "<PlayerModel(name=Jake Waters, player_id=2569, age=22, team=None, position=QB)>\n",
      "<PlayerModel(name=Drake Maye, player_id=11564, age=22, team=NE, position=QB)>\n"
     ]
    }
   ],
   "source": [
    "# simple search example\n",
    "from sleeper_api import SleeperClient\n",
    "from sleeper_api.endpoints.player_endpoint import PlayerEndpoint\n",
    "\n",
    "client = SleeperClient()\n",
    "player_endpoint = PlayerEndpoint(client)\n",
    "\n",
    "criteria = {\"position\": \"QB\",\"age\": 22}\n",
    "players = player_endpoint.search_players(criteria)\n",
    "for player in players:\n",
    "    print(player)"
   ]
  },
  {
   "cell_type": "code",
   "execution_count": null,
   "metadata": {},
   "outputs": [],
   "source": [
    "## FILTER USAGE ON SEARCH PLAYER EXAMPLES"
   ]
  },
  {
   "cell_type": "code",
   "execution_count": 3,
   "metadata": {},
   "outputs": [],
   "source": [
    "# how to use search logic from basic to advanced usage\n",
    "from sleeper_api import SleeperClient\n",
    "from sleeper_api.endpoints.player_endpoint import PlayerEndpoint\n",
    "\n",
    "client = SleeperClient()\n",
    "player_endpoint = PlayerEndpoint(client)"
   ]
  },
  {
   "cell_type": "code",
   "execution_count": 4,
   "metadata": {},
   "outputs": [
    {
     "name": "stdout",
     "output_type": "stream",
     "text": [
      "Criteria 1 Returns 417 players.\n",
      "Criteria 1 Returns 1208 players.\n"
     ]
    }
   ],
   "source": [
    "# BASIC USAGE:\n",
    "# Find players who are Quarterbacks (position: QB)\n",
    "search_criteria_1 = {\"position\": \"QB\"}\n",
    "# Find players who are 24 years old\n",
    "search_criteria_2 = {\"age\": 24}\n",
    "\n",
    "print(f'Criteria 1 Returns {len(player_endpoint.search_players(search_criteria_1))} players.')\n",
    "print(f'Criteria 1 Returns {len(player_endpoint.search_players(search_criteria_2))} players.')"
   ]
  },
  {
   "cell_type": "code",
   "execution_count": 5,
   "metadata": {},
   "outputs": [
    {
     "name": "stdout",
     "output_type": "stream",
     "text": [
      "Criteria 1 Returns 46 players.\n",
      "Criteria 1 Returns 53 players.\n"
     ]
    }
   ],
   "source": [
    "# MULTIPLE CONDITIONS (using default AND logic)\n",
    "\n",
    "# Find players who are Quarterbacks (position: QB) and are 24 years old\n",
    "search_criteria_1 = {\"position\": \"QB\", \"age\": 24}\n",
    "\n",
    "# Find players who play for team SF and are older than 25\n",
    "search_criteria_2 = {\"team\": \"SF\", \"age\": {\">\": 25}}\n",
    "\n",
    "print(f'Criteria 1 Returns {len(player_endpoint.search_players(search_criteria_1))} players.')\n",
    "print(f'Criteria 1 Returns {len(player_endpoint.search_players(search_criteria_2))} players.')"
   ]
  },
  {
   "cell_type": "code",
   "execution_count": 6,
   "metadata": {},
   "outputs": [
    {
     "name": "stdout",
     "output_type": "stream",
     "text": [
      "Criteria 1 Returns 7789 players.\n",
      "Criteria 1 Returns 8822 players.\n"
     ]
    }
   ],
   "source": [
    "# USING COMPARISON OPERATORS\n",
    "\n",
    "# Find players who are older than 22 and younger than or equal to 30\n",
    "search_criteria_1 = {\"age\": {\">\": 22, \"<=\": 30}}\n",
    "\n",
    "# Find players who are not Wide Receivers (position: WR)\n",
    "search_criteria_2 = {\"position\": {\"!=\": \"WR\"}}\n",
    "\n",
    "print(f'Criteria 1 Returns {len(player_endpoint.search_players(search_criteria_1))} players.')\n",
    "print(f'Criteria 1 Returns {len(player_endpoint.search_players(search_criteria_2))} players.')"
   ]
  },
  {
   "cell_type": "code",
   "execution_count": 7,
   "metadata": {},
   "outputs": [
    {
     "name": "stdout",
     "output_type": "stream",
     "text": [
      "Criteria 1 Returns 254 players.\n",
      "Criteria 1 Returns 24 players.\n"
     ]
    }
   ],
   "source": [
    "# LOGICAL GROUPING WITH AND multple conditions:\n",
    "\n",
    "# Find players who are Quarterbacks and are older than or equal to 24\n",
    "search_criteria_1 = {\n",
    "    \"AND\": [\n",
    "        {\"position\": \"QB\"},\n",
    "        {\"age\": {\">=\": 24, \"<=\": 30}}\n",
    "    ]\n",
    "}\n",
    "\n",
    "# Find players who play for team SF and are younger than 25\n",
    "search_criteria_2 = {\n",
    "    \"AND\": [\n",
    "        {\"team\": \"SF\"},\n",
    "        {\"age\": {\"<\": 25}}\n",
    "    ]\n",
    "}\n",
    "\n",
    "print(f'Criteria 1 Returns {len(player_endpoint.search_players(search_criteria_1))} players.')\n",
    "print(f'Criteria 1 Returns {len(player_endpoint.search_players(search_criteria_2))} players.')"
   ]
  },
  {
   "cell_type": "code",
   "execution_count": 8,
   "metadata": {},
   "outputs": [
    {
     "name": "stdout",
     "output_type": "stream",
     "text": [
      "Criteria 1 Returns 169 players.\n",
      "Criteria 1 Returns 2008 players.\n"
     ]
    }
   ],
   "source": [
    "# LOGICAL GROUPING WITH OR:\n",
    "# Find players who are either on team SF or team NE\n",
    "search_criteria_1 = {\n",
    "    \"OR\": [\n",
    "        {\"team\": \"SF\"},\n",
    "        {\"team\": \"NE\"},\n",
    "        {\"team_abbr\": \"SF\"},\n",
    "        {\"team_abbr\": \"NE\"}\n",
    "    ]\n",
    "}\n",
    "\n",
    "# Find players who are Quarterbacks or are older than 30\n",
    "search_criteria_2 = {\n",
    "    \"OR\": [\n",
    "        {\"position\": \"QB\"},\n",
    "        {\"age\": {\">\": 30}}\n",
    "    ]\n",
    "}\n",
    "\n",
    "print(f'Criteria 1 Returns {len(player_endpoint.search_players(search_criteria_1))} players.')\n",
    "print(f'Criteria 1 Returns {len(player_endpoint.search_players(search_criteria_2))} players.')"
   ]
  },
  {
   "cell_type": "code",
   "execution_count": 9,
   "metadata": {},
   "outputs": [
    {
     "name": "stdout",
     "output_type": "stream",
     "text": [
      "Criteria 1 Returns 7 players.\n",
      "Criteria 1 Returns 6456 players.\n"
     ]
    }
   ],
   "source": [
    "# COMBINING AND and OR OPERATORS:\n",
    "# Find players who are Quarterbacks and (play for team SF or team NE)\n",
    "search_criteria_1 = {\n",
    "    \"AND\": [\n",
    "        {\"position\": \"QB\"},\n",
    "        {\"OR\": [\n",
    "            {\"team\": \"SF\"},\n",
    "            {\"team\": \"NE\"}\n",
    "        ]}\n",
    "    ]\n",
    "}\n",
    "\n",
    "# Find players who are not Wide Receivers and (are younger than 25 or have more than 3 years of experience)\n",
    "search_criteria_2 = {\n",
    "    \"AND\": [\n",
    "        {\"position\": {\"!=\": \"WR\"}},\n",
    "        {\"OR\": [\n",
    "            {\"age\": {\"<\": 25}},\n",
    "            {\"years_exp\": {\">\": 3}}\n",
    "        ]}\n",
    "    ]\n",
    "}\n",
    "\n",
    "print(f'Criteria 1 Returns {len(player_endpoint.search_players(search_criteria_1))} players.')\n",
    "print(f'Criteria 1 Returns {len(player_endpoint.search_players(search_criteria_2))} players.')"
   ]
  },
  {
   "cell_type": "code",
   "execution_count": 10,
   "metadata": {},
   "outputs": [
    {
     "name": "stdout",
     "output_type": "stream",
     "text": [
      "Criteria 1 Returns 2607 players.\n",
      "Criteria 1 Returns 7679 players.\n"
     ]
    }
   ],
   "source": [
    "# MEMBERSHIP OPERATER USAGE:\n",
    "# Find players who are either 22, 24, or 26 years old\n",
    "search_criteria_1 = {\"age\": {\"in\": [22, 24, 26]}}\n",
    "\n",
    "# Find players whose position is not QB, WR, or TE\n",
    "search_criteria_2 = {\"position\": {\"not in\": [\"QB\", \"WR\", \"TE\"]}}\n",
    "\n",
    "print(f'Criteria 1 Returns {len(player_endpoint.search_players(search_criteria_1))} players.')\n",
    "print(f'Criteria 1 Returns {len(player_endpoint.search_players(search_criteria_2))} players.')"
   ]
  },
  {
   "cell_type": "code",
   "execution_count": 11,
   "metadata": {},
   "outputs": [
    {
     "name": "stdout",
     "output_type": "stream",
     "text": [
      "Criteria 1 Returns 896 players.\n",
      "Criteria 1 Returns 6839 players.\n"
     ]
    }
   ],
   "source": [
    "# ADVANCED NESTED LOGIC:\n",
    "# Find players who are (Quarterbacks or Running Backs) and (older than 24 or on team SF or NE)\n",
    "search_criteria_1 = {\n",
    "    \"AND\": [\n",
    "        {\"OR\": [\n",
    "            {\"position\": \"QB\"},\n",
    "            {\"position\": \"RB\"}\n",
    "        ]},\n",
    "        {\"OR\": [\n",
    "            {\"age\": {\">\": 24}},\n",
    "            {\"team\": {\"in\": [\"SF\", \"NE\"]}}\n",
    "        ]}\n",
    "    ]\n",
    "}\n",
    "\n",
    "# Find players who are not (Wide Receivers or Tight Ends) and are not younger than 21\n",
    "search_criteria_2 = {\n",
    "    \"AND\": [\n",
    "        {\"position\": {\"not in\": [\"WR\", \"TE\"]}},\n",
    "        {\"age\": {\">=\": 21, '<=': 32}}\n",
    "    ]\n",
    "}\n",
    "\n",
    "print(f'Criteria 1 Returns {len(player_endpoint.search_players(search_criteria_1))} players.')\n",
    "print(f'Criteria 1 Returns {len(player_endpoint.search_players(search_criteria_2))} players.')"
   ]
  }
 ],
 "metadata": {
  "kernelspec": {
   "display_name": "random_python3",
   "language": "python",
   "name": "python3"
  },
  "language_info": {
   "codemirror_mode": {
    "name": "ipython",
    "version": 3
   },
   "file_extension": ".py",
   "mimetype": "text/x-python",
   "name": "python",
   "nbconvert_exporter": "python",
   "pygments_lexer": "ipython3",
   "version": "3.10.10"
  }
 },
 "nbformat": 4,
 "nbformat_minor": 2
}
